{
 "cells": [
  {
   "cell_type": "markdown",
   "id": "87ca1816-e75b-4de5-b3cd-dc8858885e03",
   "metadata": {},
   "source": [
    "# My JupyterLite Notebook\n"
   ]
  },
  {
   "cell_type": "markdown",
   "id": "a42e479b-e499-424a-8f1b-53420323b912",
   "metadata": {},
   "source": [
    "## Introduction  \n",
    "This notebook is created as part of the final project for the Tools for Data Science course. It includes exercises to demonstrate my understanding of Jupyter notebooks, Markdown, and Python code cells.\n"
   ]
  },
  {
   "cell_type": "markdown",
   "id": "76de66fe-4504-4720-b3ad-27fe4a91f86c",
   "metadata": {},
   "source": [
    "## Data Science Languages  \n",
    "- Python  \n",
    "- R  \n",
    "- SQL  \n",
    "- Julia  \n",
    "- Scala  \n",
    "- Java\n"
   ]
  },
  {
   "cell_type": "markdown",
   "id": "641bb4e6-e73c-4b45-b935-c1f9d6f388b6",
   "metadata": {},
   "source": [
    "## Data Science Libraries  \n",
    "- NumPy  \n",
    "- Pandas  \n",
    "- Matplotlib  \n",
    "- Scikit-learn  \n",
    "- TensorFlow  \n",
    "- PyTorch  \n",
    "- Keras\n"
   ]
  },
  {
   "cell_type": "markdown",
   "id": "9d32482b-8685-4abd-93f4-a22eac0df5c7",
   "metadata": {},
   "source": [
    "## Data Science Tools  \n",
    "\n",
    "| Tool            | Purpose                   |  \n",
    "|-----------------|---------------------------|  \n",
    "| Jupyter Notebook| Interactive coding        |  \n",
    "| RStudio         | Statistical analysis      |  \n",
    "| Tableau         | Data visualization        |  \n",
    "| Power BI        | Business intelligence     |  \n"
   ]
  },
  {
   "cell_type": "markdown",
   "id": "3bb9d96f-a8a1-4ce8-b8d5-c1e638960c9f",
   "metadata": {},
   "source": [
    "## Arithmetic Expression Examples  \n",
    "Arithmetic expressions are used to perform basic mathematical operations like addition, subtraction, multiplication, and division.\n"
   ]
  },
  {
   "cell_type": "code",
   "execution_count": 4,
   "id": "ff2a7a6c-8bff-4ed6-890a-16751f07606e",
   "metadata": {},
   "outputs": [
    {
     "name": "stdout",
     "output_type": "stream",
     "text": [
      "The result of the expression is: 30\n"
     ]
    }
   ],
   "source": [
    "# Example of arithmetic expressions\n",
    "result = (5 * 4) + 10\n",
    "print(\"The result of the expression is:\", result)\n"
   ]
  },
  {
   "cell_type": "code",
   "execution_count": 5,
   "id": "92bc6959-4ce5-4d25-809e-7902b7fdd5fd",
   "metadata": {},
   "outputs": [
    {
     "name": "stdout",
     "output_type": "stream",
     "text": [
      "150 minutes is equal to 2.5 hours.\n"
     ]
    }
   ],
   "source": [
    "# Convert minutes to hours\n",
    "minutes = 150\n",
    "hours = minutes / 60\n",
    "print(f\"{minutes} minutes is equal to {hours} hours.\")\n"
   ]
  },
  {
   "cell_type": "markdown",
   "id": "b72969c3-d368-43b8-af07-4c4ea5ef413f",
   "metadata": {},
   "source": [
    "## Objectives  \n",
    "- Learn to use Markdown cells in Jupyter Notebook  \n",
    "- Demonstrate basic Python programming skills  \n",
    "- Create and share a Jupyter Notebook via GitHub  \n"
   ]
  },
  {
   "cell_type": "markdown",
   "id": "18840a05-987d-4626-af42-f0a6dee6af0c",
   "metadata": {},
   "source": [
    "## Author  \n",
    "Ishita Patoliya\n"
   ]
  }
 ],
 "metadata": {
  "kernelspec": {
   "display_name": "Python 3 (ipykernel)",
   "language": "python",
   "name": "python3"
  },
  "language_info": {
   "codemirror_mode": {
    "name": "ipython",
    "version": 3
   },
   "file_extension": ".py",
   "mimetype": "text/x-python",
   "name": "python",
   "nbconvert_exporter": "python",
   "pygments_lexer": "ipython3",
   "version": "3.12.8"
  }
 },
 "nbformat": 4,
 "nbformat_minor": 5
}
